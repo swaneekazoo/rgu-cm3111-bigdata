{
 "cells": [
  {
   "cell_type": "markdown",
   "metadata": {},
   "source": [
    "# Abstract"
   ]
  },
  {
   "cell_type": "markdown",
   "metadata": {},
   "source": [
    "Mushroom picking is a popular pastime. Wild mushrooms vary in edibility, from edible and pleasant-tasting to deadly poisonous. Correct identification is difficult for the layman, and different mushrooms can easily be confused with each other."
   ]
  },
  {
   "cell_type": "markdown",
   "metadata": {},
   "source": [
    "The aim of this coursework is to create a Machine Learning model to classify mushroom specimens as edible or poisonous. This model must be highly credible and accurate, since the nature of its task means errors could mean fatalities."
   ]
  },
  {
   "cell_type": "markdown",
   "metadata": {},
   "source": [
    "## Dataset"
   ]
  },
  {
   "cell_type": "markdown",
   "metadata": {},
   "source": [
    "The [Mushroom](https://archive.ics.uci.edu/ml/datasets/mushroom) dataset is a well-known dataset for classification purposes. It contains more than 8,000 instances of specimens in the *Agaricus* and *Lepiota* genera of mushrooms. Each instance is classified as either *edible* or *poisonous*."
   ]
  },
  {
   "cell_type": "markdown",
   "metadata": {},
   "source": [
    "This copy of the Mushroom dataset was retrieved from the [Wolfram Data Repository](https://datarepository.wolframcloud.com/resources/Sample-Data-Mushroom-Classification) on roughly November 1."
   ]
  },
  {
   "cell_type": "markdown",
   "metadata": {},
   "source": [
    "# Research & Data exploration"
   ]
  },
  {
   "cell_type": "markdown",
   "metadata": {},
   "source": [
    "## Literature Review"
   ]
  },
  {
   "cell_type": "markdown",
   "metadata": {},
   "source": [
    "The paper [*Data Mining on Mushroom Database*](http://csis.pace.edu/~ctappert/srd2008/b2.pdf) makes use of the Mushroom dataset. The authors worked to find the most effective Machine Learning model to use for Mushroom, with preliminary results showing that the most effective one used was a Decision Tree algorithm (J48). Test data was split into 2 sets, on which the model reached 99.6% and 100% accuracy, respectively."
   ]
  },
  {
   "cell_type": "markdown",
   "metadata": {},
   "source": [
    "The paper's goal is not dissimilar to that of this coursework. The authors built a user-facing web application powered by the Decision Tree model, which returns a mushroom's edibility given some attributes by the user."
   ]
  },
  {
   "cell_type": "markdown",
   "metadata": {},
   "source": [
    "In *8. Limitations and Opportunities for Research*, the authors state that the `StalkRoot` attribute, which is known to be about 30% missing, was not removed except in the case of one particular algorithm (PRISM) which was unable to process missing values. It is noted that 'an acceptable level of accuracy was reached regardless of the missing data'."
   ]
  },
  {
   "cell_type": "markdown",
   "metadata": {},
   "source": [
    "The parameters of the Decision Tree model are not explained, other than that the tree is unpruned. Unpruned trees are prone to overfitting, a possibility which is not discussed."
   ]
  },
  {
   "cell_type": "markdown",
   "metadata": {},
   "source": [
    "The paper provides no exploration of the dataset, very little explanation of how the data was prepared, and no visualisation. Although its primary focus is not the dataset itself but rather the Machine Learning algorithms used, this means little can be known about what preparatory measures were undertaken with the data to produce the high degree of accuracy achieved by the model. Most of Mushroom's features are categorical and therefore uninterpretable by most Machine Learning algorithms, so the data was certainly processed; but this processing is not explained."
   ]
  },
  {
   "cell_type": "markdown",
   "metadata": {},
   "source": [
    "## Data Exploration"
   ]
  },
  {
   "cell_type": "markdown",
   "metadata": {},
   "source": [
    "### Data Shape"
   ]
  },
  {
   "cell_type": "code",
   "execution_count": 1,
   "metadata": {},
   "outputs": [],
   "source": [
    "# Import libraries\n",
    "import numpy as np\n",
    "import pandas as pd\n",
    "import seaborn as sns\n",
    "import matplotlib.pyplot as plt"
   ]
  },
  {
   "cell_type": "code",
   "execution_count": 36,
   "metadata": {},
   "outputs": [
    {
     "data": {
      "text/html": [
       "<div>\n",
       "<style scoped>\n",
       "    .dataframe tbody tr th:only-of-type {\n",
       "        vertical-align: middle;\n",
       "    }\n",
       "\n",
       "    .dataframe tbody tr th {\n",
       "        vertical-align: top;\n",
       "    }\n",
       "\n",
       "    .dataframe thead th {\n",
       "        text-align: right;\n",
       "    }\n",
       "</style>\n",
       "<table border=\"1\" class=\"dataframe\">\n",
       "  <thead>\n",
       "    <tr style=\"text-align: right;\">\n",
       "      <th></th>\n",
       "      <th>CapShape</th>\n",
       "      <th>CapSurface</th>\n",
       "      <th>CapColor</th>\n",
       "      <th>Bruises</th>\n",
       "      <th>Odor</th>\n",
       "      <th>GillAttachment</th>\n",
       "    </tr>\n",
       "  </thead>\n",
       "  <tbody>\n",
       "    <tr>\n",
       "      <th>0</th>\n",
       "      <td>convex</td>\n",
       "      <td>smooth</td>\n",
       "      <td>brown</td>\n",
       "      <td>True</td>\n",
       "      <td>pungent</td>\n",
       "      <td>free</td>\n",
       "    </tr>\n",
       "    <tr>\n",
       "      <th>1</th>\n",
       "      <td>convex</td>\n",
       "      <td>smooth</td>\n",
       "      <td>yellow</td>\n",
       "      <td>True</td>\n",
       "      <td>almond</td>\n",
       "      <td>free</td>\n",
       "    </tr>\n",
       "    <tr>\n",
       "      <th>2</th>\n",
       "      <td>bell</td>\n",
       "      <td>smooth</td>\n",
       "      <td>white</td>\n",
       "      <td>True</td>\n",
       "      <td>anise</td>\n",
       "      <td>free</td>\n",
       "    </tr>\n",
       "    <tr>\n",
       "      <th>3</th>\n",
       "      <td>convex</td>\n",
       "      <td>scaly</td>\n",
       "      <td>white</td>\n",
       "      <td>True</td>\n",
       "      <td>pungent</td>\n",
       "      <td>free</td>\n",
       "    </tr>\n",
       "    <tr>\n",
       "      <th>4</th>\n",
       "      <td>convex</td>\n",
       "      <td>smooth</td>\n",
       "      <td>gray</td>\n",
       "      <td>False</td>\n",
       "      <td>none</td>\n",
       "      <td>free</td>\n",
       "    </tr>\n",
       "  </tbody>\n",
       "</table>\n",
       "</div>"
      ],
      "text/plain": [
       "  CapShape CapSurface CapColor  Bruises     Odor GillAttachment\n",
       "0   convex     smooth    brown     True  pungent           free\n",
       "1   convex     smooth   yellow     True   almond           free\n",
       "2     bell     smooth    white     True    anise           free\n",
       "3   convex      scaly    white     True  pungent           free\n",
       "4   convex     smooth     gray    False     none           free"
      ]
     },
     "execution_count": 36,
     "metadata": {},
     "output_type": "execute_result"
    }
   ],
   "source": [
    "# Import data\n",
    "df = pd.read_csv('data/mushroom.csv')\n",
    "df.iloc[:5,:6]"
   ]
  },
  {
   "cell_type": "code",
   "execution_count": 3,
   "metadata": {},
   "outputs": [
    {
     "name": "stdout",
     "output_type": "stream",
     "text": [
      "Dataset contains 8124 rows\n",
      "and 23 columns.\n"
     ]
    }
   ],
   "source": [
    "print(f'Dataset contains {df.shape[0]} rows')\n",
    "print(f'and {df.shape[1]} columns.')"
   ]
  },
  {
   "cell_type": "markdown",
   "metadata": {},
   "source": [
    "### Features"
   ]
  },
  {
   "cell_type": "markdown",
   "metadata": {},
   "source": [
    "All but two features are of `object` type: these are all categorical variables, having discrete values. They will need to be handled in order to be properly interpreted by most Machine Learning algorithms."
   ]
  },
  {
   "cell_type": "code",
   "execution_count": 4,
   "metadata": {
    "scrolled": false
   },
   "outputs": [
    {
     "name": "stdout",
     "output_type": "stream",
     "text": [
      "<class 'pandas.core.frame.DataFrame'>\n",
      "RangeIndex: 8124 entries, 0 to 8123\n",
      "Data columns (total 23 columns):\n",
      " #   Column                 Non-Null Count  Dtype \n",
      "---  ------                 --------------  ----- \n",
      " 0   CapShape               8124 non-null   object\n",
      " 1   CapSurface             8124 non-null   object\n",
      " 2   CapColor               8124 non-null   object\n",
      " 3   Bruises                8124 non-null   bool  \n",
      " 4   Odor                   8124 non-null   object\n",
      " 5   GillAttachment         8124 non-null   object\n",
      " 6   GillSpacing            8124 non-null   object\n",
      " 7   GillSize               8124 non-null   object\n",
      " 8   GillColor              8124 non-null   object\n",
      " 9   StalkShape             8124 non-null   object\n",
      " 10  StalkRoot              8124 non-null   object\n",
      " 11  StalkSurfaceAboveRing  8124 non-null   object\n",
      " 12  StalkSurfaceBelowRing  8124 non-null   object\n",
      " 13  StalkColorAboveRing    8124 non-null   object\n",
      " 14  StalkColorBelowRing    8124 non-null   object\n",
      " 15  VeilType               8124 non-null   object\n",
      " 16  VeilColor              8124 non-null   object\n",
      " 17  RingNumber             8124 non-null   int64 \n",
      " 18  RingType               8124 non-null   object\n",
      " 19  SporePrintColor        8124 non-null   object\n",
      " 20  Population             8124 non-null   object\n",
      " 21  Habitat                8124 non-null   object\n",
      " 22  Class                  8124 non-null   object\n",
      "dtypes: bool(1), int64(1), object(21)\n",
      "memory usage: 1.4+ MB\n"
     ]
    }
   ],
   "source": [
    "df.info()"
   ]
  },
  {
   "cell_type": "markdown",
   "metadata": {},
   "source": [
    "Some attributes, such as `GillAttachment` and `RingNumber`, apparently show very little relation to the class variable. Others, such as `GillColor` & `Odor`, appear to be important features. For example, a `GillColor` of *buff* and an `Odor` of *foul* are apparently important predictors of poisonous mushrooms."
   ]
  },
  {
   "cell_type": "code",
   "execution_count": 5,
   "metadata": {
    "scrolled": false
   },
   "outputs": [
    {
     "data": {
      "text/plain": [
       "<AxesSubplot:title={'center':'Odor vs Class'}, xlabel='Odor', ylabel='count'>"
      ]
     },
     "execution_count": 5,
     "metadata": {},
     "output_type": "execute_result"
    },
    {
     "data": {
      "image/png": "[encoded data removed]",
      "text/plain": [
       "<Figure size 1008x792 with 4 Axes>"
      ]
     },
     "metadata": {
      "needs_background": "light"
     },
     "output_type": "display_data"
    }
   ],
   "source": [
    "# 4 subplots\n",
    "plt.figure(figsize=(14,11))\n",
    "sns.set_style('darkgrid')\n",
    "\n",
    "plt.subplot(2,2,1)\n",
    "plt.title('GillAttachment vs Class')\n",
    "sns.countplot(data=df,x='GillAttachment',hue='Class')\n",
    "\n",
    "plt.subplot(2,2,2)\n",
    "plt.title('RingNumber vs Class')\n",
    "sns.countplot(data=df,x='RingNumber',hue='Class')\n",
    "\n",
    "plt.subplot(2,2,3)\n",
    "plt.title('GillColor vs Class')\n",
    "sns.countplot(data=df,x='GillColor',hue='Class')\n",
    "\n",
    "plt.subplot(2,2,4)\n",
    "plt.title('Odor vs Class')\n",
    "sns.countplot(data=df,x='Odor',hue='Class')"
   ]
  },
  {
   "cell_type": "markdown",
   "metadata": {},
   "source": [
    "The dataset's class distribution is balanced."
   ]
  },
  {
   "cell_type": "code",
   "execution_count": 6,
   "metadata": {},
   "outputs": [
    {
     "name": "stdout",
     "output_type": "stream",
     "text": [
      "Edible: 4208 (51.8%)\n",
      "Poisonous: 3916 (48.2%)\n"
     ]
    }
   ],
   "source": [
    "# Class label counts\n",
    "edible = len(df[df.Class=='edible'])\n",
    "poisonous = len(df[df.Class=='poisonous'])\n",
    "\n",
    "# Class label proportions\n",
    "ediblePC = round(edible/df.shape[0]*100,2)\n",
    "poisonousPC = round(poisonous/df.shape[0]*100,2)\n",
    "\n",
    "print(f'Edible: {edible} ({ediblePC}%)')\n",
    "print(f'Poisonous: {poisonous} ({poisonousPC}%)')"
   ]
  },
  {
   "cell_type": "code",
   "execution_count": 7,
   "metadata": {},
   "outputs": [
    {
     "data": {
      "image/png": "[encoded data removed]",
      "text/plain": [
       "<Figure size 648x504 with 1 Axes>"
      ]
     },
     "metadata": {},
     "output_type": "display_data"
    }
   ],
   "source": [
    "# Plot class label proportions\n",
    "sns.set_style('darkgrid')\n",
    "sns.set(rc={'figure.figsize':(9,7)})\n",
    "\n",
    "sns.countplot(x='Class',data=df)\n",
    "plt.show()"
   ]
  },
  {
   "cell_type": "markdown",
   "metadata": {},
   "source": [
    "### Missing values"
   ]
  },
  {
   "cell_type": "markdown",
   "metadata": {},
   "source": [
    "Mushroom is known to contain missing values. They can be spotted by a knowledgeable eye in the following output: among the listed unique values of the `StalkRoot` feature is a value `Missing[]`. As previously mentioned, the dataset was downloaded from the Wolfram Data Repository, and according to the [Wolfram Language Reference](https://reference.wolfram.com/language/ref/Missing.html), `Missing[]` is the standard notation for missing values in the Wolfram Language."
   ]
  },
  {
   "cell_type": "code",
   "execution_count": 8,
   "metadata": {},
   "outputs": [
    {
     "name": "stdout",
     "output_type": "stream",
     "text": [
      "4 unique values in CapSurface: ['smooth' 'scaly' 'fibrous' 'grooves']\n",
      "2 unique values in Bruises: [ True False]\n",
      "2 unique values in GillAttachment: ['free' 'attached']\n",
      "2 unique values in GillSpacing: ['close' 'crowded']\n",
      "2 unique values in GillSize: ['narrow' 'broad']\n",
      "2 unique values in StalkShape: ['enlarging' 'tapering']\n",
      "5 unique values in StalkRoot: ['equal' 'club' 'bulbous' 'rooted' 'Missing[]']\n",
      "4 unique values in StalkSurfaceAboveRing: ['smooth' 'fibrous' 'silky' 'scaly']\n",
      "4 unique values in StalkSurfaceBelowRing: ['smooth' 'fibrous' 'scaly' 'silky']\n",
      "1 unique values in VeilType: ['partial']\n",
      "4 unique values in VeilColor: ['white' 'brown' 'orange' 'yellow']\n",
      "3 unique values in RingNumber: [1 2 0]\n",
      "5 unique values in RingType: ['pendant' 'evanescent' 'large' 'flaring' 'none']\n",
      "2 unique values in Class: ['poisonous' 'edible']\n"
     ]
    }
   ],
   "source": [
    "# Print unique values of each column if they number 5 or fewer\n",
    "for i in df.columns:\n",
    "    if len(df[i].unique()) <= 5:\n",
    "        print (f'{len(df[i].unique())} unique values in {i}: {df[i].unique()}')"
   ]
  },
  {
   "cell_type": "code",
   "execution_count": 9,
   "metadata": {
    "scrolled": true
   },
   "outputs": [
    {
     "name": "stdout",
     "output_type": "stream",
     "text": [
      "Unique values in StalkRoot: ['equal' 'club' 'bulbous' 'rooted' 'Missing[]']\n"
     ]
    }
   ],
   "source": [
    "print(f'Unique values in StalkRoot: {df[\"StalkRoot\"].unique()}')"
   ]
  },
  {
   "cell_type": "markdown",
   "metadata": {},
   "source": [
    "We can be sure that there are no more missing values in the dataset by converting any `Missing[]` values into a more traditional `None`, and then checking the data frame for null values:"
   ]
  },
  {
   "cell_type": "code",
   "execution_count": 10,
   "metadata": {},
   "outputs": [],
   "source": [
    "# Function to convert Missing[] values to None\n",
    "def missingToNone(value):\n",
    "    if value == 'Missing[]':\n",
    "        return None\n",
    "    else:\n",
    "        return value"
   ]
  },
  {
   "cell_type": "code",
   "execution_count": 11,
   "metadata": {},
   "outputs": [],
   "source": [
    "# Apply function to data frame\n",
    "for i in df.columns:\n",
    "    df[i] = df[i].apply(missingToNone)"
   ]
  },
  {
   "cell_type": "code",
   "execution_count": 12,
   "metadata": {},
   "outputs": [
    {
     "data": {
      "text/plain": [
       "CapShape                    0\n",
       "CapSurface                  0\n",
       "CapColor                    0\n",
       "Bruises                     0\n",
       "Odor                        0\n",
       "GillAttachment              0\n",
       "GillSpacing                 0\n",
       "GillSize                    0\n",
       "GillColor                   0\n",
       "StalkShape                  0\n",
       "StalkRoot                2480\n",
       "StalkSurfaceAboveRing       0\n",
       "StalkSurfaceBelowRing       0\n",
       "StalkColorAboveRing         0\n",
       "StalkColorBelowRing         0\n",
       "VeilType                    0\n",
       "VeilColor                   0\n",
       "RingNumber                  0\n",
       "RingType                    0\n",
       "SporePrintColor             0\n",
       "Population                  0\n",
       "Habitat                     0\n",
       "Class                       0\n",
       "dtype: int64"
      ]
     },
     "execution_count": 12,
     "metadata": {},
     "output_type": "execute_result"
    }
   ],
   "source": [
    "# Check again for missing values \n",
    "df.isnull().sum()"
   ]
  },
  {
   "cell_type": "markdown",
   "metadata": {},
   "source": [
    "# Data Preparation"
   ]
  },
  {
   "cell_type": "markdown",
   "metadata": {},
   "source": [
    "## Missing Values"
   ]
  },
  {
   "cell_type": "code",
   "execution_count": 13,
   "metadata": {},
   "outputs": [
    {
     "name": "stdout",
     "output_type": "stream",
     "text": [
      "Percentage of missing values in StalkRoot: 30.53%\n"
     ]
    }
   ],
   "source": [
    "print(f'Percentage of missing values in StalkRoot: {round(((df[\"StalkRoot\"].isnull().sum() / df.shape[0]) * 100), 2)}%')"
   ]
  },
  {
   "cell_type": "markdown",
   "metadata": {},
   "source": [
    "Since the proportion of missing values is not significant, the StalkRoot feature can be retained."
   ]
  },
  {
   "cell_type": "markdown",
   "metadata": {},
   "source": [
    "## Zero-Variance Predictors"
   ]
  },
  {
   "cell_type": "markdown",
   "metadata": {},
   "source": [
    "The following output reveals that the feature `VeilType` contains only 1 unique value. This makes it a *zero-variance predictor* which is of no use for modelling, so it can be dropped from the dataset."
   ]
  },
  {
   "cell_type": "code",
   "execution_count": 14,
   "metadata": {},
   "outputs": [
    {
     "name": "stdout",
     "output_type": "stream",
     "text": [
      "CapShape 6\n",
      "CapSurface 4\n",
      "CapColor 10\n",
      "Bruises 2\n",
      "Odor 9\n",
      "GillAttachment 2\n",
      "GillSpacing 2\n",
      "GillSize 2\n",
      "GillColor 12\n",
      "StalkShape 2\n",
      "StalkRoot 5\n",
      "StalkSurfaceAboveRing 4\n",
      "StalkSurfaceBelowRing 4\n",
      "StalkColorAboveRing 9\n",
      "StalkColorBelowRing 9\n",
      "VeilType 1\n",
      "VeilColor 4\n",
      "RingNumber 3\n",
      "RingType 5\n",
      "SporePrintColor 9\n",
      "Population 6\n",
      "Habitat 7\n",
      "Class 2\n"
     ]
    }
   ],
   "source": [
    "# Number of unique values per feature\n",
    "for i in df.columns:\n",
    "    print (i,len(df[i].unique()))"
   ]
  },
  {
   "cell_type": "code",
   "execution_count": 15,
   "metadata": {},
   "outputs": [],
   "source": [
    "# Drop VeilType feature\n",
    "df.drop(['VeilType'],axis=1,inplace=True)"
   ]
  },
  {
   "cell_type": "markdown",
   "metadata": {},
   "source": [
    "## Categorical Features"
   ]
  },
  {
   "cell_type": "markdown",
   "metadata": {},
   "source": [
    "The categorical features in the dataset are subject to one-hot encoding with Pandas' `get_dummies` method."
   ]
  },
  {
   "cell_type": "code",
   "execution_count": 16,
   "metadata": {},
   "outputs": [
    {
     "data": {
      "text/html": [
       "<div>\n",
       "<style scoped>\n",
       "    .dataframe tbody tr th:only-of-type {\n",
       "        vertical-align: middle;\n",
       "    }\n",
       "\n",
       "    .dataframe tbody tr th {\n",
       "        vertical-align: top;\n",
       "    }\n",
       "\n",
       "    .dataframe thead th {\n",
       "        text-align: right;\n",
       "    }\n",
       "</style>\n",
       "<table border=\"1\" class=\"dataframe\">\n",
       "  <thead>\n",
       "    <tr style=\"text-align: right;\">\n",
       "      <th></th>\n",
       "      <th>Bruises</th>\n",
       "      <th>RingNumber</th>\n",
       "      <th>Class</th>\n",
       "      <th>CapColor_brown</th>\n",
       "      <th>CapColor_buff</th>\n",
       "      <th>CapColor_cinnamon</th>\n",
       "      <th>CapColor_gray</th>\n",
       "      <th>CapColor_green</th>\n",
       "    </tr>\n",
       "  </thead>\n",
       "  <tbody>\n",
       "    <tr>\n",
       "      <th>0</th>\n",
       "      <td>True</td>\n",
       "      <td>1</td>\n",
       "      <td>poisonous</td>\n",
       "      <td>1</td>\n",
       "      <td>0</td>\n",
       "      <td>0</td>\n",
       "      <td>0</td>\n",
       "      <td>0</td>\n",
       "    </tr>\n",
       "    <tr>\n",
       "      <th>1</th>\n",
       "      <td>True</td>\n",
       "      <td>1</td>\n",
       "      <td>edible</td>\n",
       "      <td>0</td>\n",
       "      <td>0</td>\n",
       "      <td>0</td>\n",
       "      <td>0</td>\n",
       "      <td>0</td>\n",
       "    </tr>\n",
       "    <tr>\n",
       "      <th>2</th>\n",
       "      <td>True</td>\n",
       "      <td>1</td>\n",
       "      <td>edible</td>\n",
       "      <td>0</td>\n",
       "      <td>0</td>\n",
       "      <td>0</td>\n",
       "      <td>0</td>\n",
       "      <td>0</td>\n",
       "    </tr>\n",
       "    <tr>\n",
       "      <th>3</th>\n",
       "      <td>True</td>\n",
       "      <td>1</td>\n",
       "      <td>poisonous</td>\n",
       "      <td>0</td>\n",
       "      <td>0</td>\n",
       "      <td>0</td>\n",
       "      <td>0</td>\n",
       "      <td>0</td>\n",
       "    </tr>\n",
       "    <tr>\n",
       "      <th>4</th>\n",
       "      <td>False</td>\n",
       "      <td>1</td>\n",
       "      <td>edible</td>\n",
       "      <td>0</td>\n",
       "      <td>0</td>\n",
       "      <td>0</td>\n",
       "      <td>1</td>\n",
       "      <td>0</td>\n",
       "    </tr>\n",
       "  </tbody>\n",
       "</table>\n",
       "</div>"
      ],
      "text/plain": [
       "   Bruises  RingNumber      Class  CapColor_brown  CapColor_buff  \\\n",
       "0     True           1  poisonous               1              0   \n",
       "1     True           1     edible               0              0   \n",
       "2     True           1     edible               0              0   \n",
       "3     True           1  poisonous               0              0   \n",
       "4    False           1     edible               0              0   \n",
       "\n",
       "   CapColor_cinnamon  CapColor_gray  CapColor_green  \n",
       "0                  0              0               0  \n",
       "1                  0              0               0  \n",
       "2                  0              0               0  \n",
       "3                  0              0               0  \n",
       "4                  0              1               0  "
      ]
     },
     "execution_count": 16,
     "metadata": {},
     "output_type": "execute_result"
    }
   ],
   "source": [
    "# Set of categorical features\n",
    "non_cat_variables = ['Bruises', 'RingNumber', 'Class']\n",
    "cat_variables = set(df.columns) - set(non_cat_variables)\n",
    "\n",
    "# New data frame for encoded features\n",
    "df_encoded = pd.get_dummies(df, columns=cat_variables)\n",
    "df_encoded.iloc[:5, :8]"
   ]
  },
  {
   "cell_type": "markdown",
   "metadata": {},
   "source": [
    "This results in the class label being shifted from the end of the data frame to near the beginning, so it is moved back to the end."
   ]
  },
  {
   "cell_type": "code",
   "execution_count": 17,
   "metadata": {},
   "outputs": [
    {
     "data": {
      "text/html": [
       "<div>\n",
       "<style scoped>\n",
       "    .dataframe tbody tr th:only-of-type {\n",
       "        vertical-align: middle;\n",
       "    }\n",
       "\n",
       "    .dataframe tbody tr th {\n",
       "        vertical-align: top;\n",
       "    }\n",
       "\n",
       "    .dataframe thead th {\n",
       "        text-align: right;\n",
       "    }\n",
       "</style>\n",
       "<table border=\"1\" class=\"dataframe\">\n",
       "  <thead>\n",
       "    <tr style=\"text-align: right;\">\n",
       "      <th></th>\n",
       "      <th>Habitat_waste</th>\n",
       "      <th>Habitat_woods</th>\n",
       "      <th>StalkShape_enlarging</th>\n",
       "      <th>StalkShape_tapering</th>\n",
       "      <th>Class</th>\n",
       "    </tr>\n",
       "  </thead>\n",
       "  <tbody>\n",
       "    <tr>\n",
       "      <th>0</th>\n",
       "      <td>0</td>\n",
       "      <td>0</td>\n",
       "      <td>1</td>\n",
       "      <td>0</td>\n",
       "      <td>poisonous</td>\n",
       "    </tr>\n",
       "    <tr>\n",
       "      <th>1</th>\n",
       "      <td>0</td>\n",
       "      <td>0</td>\n",
       "      <td>1</td>\n",
       "      <td>0</td>\n",
       "      <td>edible</td>\n",
       "    </tr>\n",
       "    <tr>\n",
       "      <th>2</th>\n",
       "      <td>0</td>\n",
       "      <td>0</td>\n",
       "      <td>1</td>\n",
       "      <td>0</td>\n",
       "      <td>edible</td>\n",
       "    </tr>\n",
       "    <tr>\n",
       "      <th>3</th>\n",
       "      <td>0</td>\n",
       "      <td>0</td>\n",
       "      <td>1</td>\n",
       "      <td>0</td>\n",
       "      <td>poisonous</td>\n",
       "    </tr>\n",
       "    <tr>\n",
       "      <th>4</th>\n",
       "      <td>0</td>\n",
       "      <td>0</td>\n",
       "      <td>0</td>\n",
       "      <td>1</td>\n",
       "      <td>edible</td>\n",
       "    </tr>\n",
       "  </tbody>\n",
       "</table>\n",
       "</div>"
      ],
      "text/plain": [
       "   Habitat_waste  Habitat_woods  StalkShape_enlarging  StalkShape_tapering  \\\n",
       "0              0              0                     1                    0   \n",
       "1              0              0                     1                    0   \n",
       "2              0              0                     1                    0   \n",
       "3              0              0                     1                    0   \n",
       "4              0              0                     0                    1   \n",
       "\n",
       "       Class  \n",
       "0  poisonous  \n",
       "1     edible  \n",
       "2     edible  \n",
       "3  poisonous  \n",
       "4     edible  "
      ]
     },
     "execution_count": 17,
     "metadata": {},
     "output_type": "execute_result"
    }
   ],
   "source": [
    "# Move class label to end of data frame\n",
    "target = df['Class']\n",
    "df_encoded.drop(labels=['Class'], axis=1, inplace=True)\n",
    "df_encoded.insert(len(df_encoded.columns), 'Class', target)\n",
    "df_encoded.iloc[:5, -5:]"
   ]
  },
  {
   "cell_type": "markdown",
   "metadata": {},
   "source": [
    "The dataset contains one Boolean feature. To make this value consistent with the encoded categorical variables, and to preclude any cross-algorithm differences in interpretation of Booleans, the feature is encoded into an integer."
   ]
  },
  {
   "cell_type": "code",
   "execution_count": 18,
   "metadata": {},
   "outputs": [
    {
     "data": {
      "text/html": [
       "<div>\n",
       "<style scoped>\n",
       "    .dataframe tbody tr th:only-of-type {\n",
       "        vertical-align: middle;\n",
       "    }\n",
       "\n",
       "    .dataframe tbody tr th {\n",
       "        vertical-align: top;\n",
       "    }\n",
       "\n",
       "    .dataframe thead th {\n",
       "        text-align: right;\n",
       "    }\n",
       "</style>\n",
       "<table border=\"1\" class=\"dataframe\">\n",
       "  <thead>\n",
       "    <tr style=\"text-align: right;\">\n",
       "      <th></th>\n",
       "      <th>CapShape</th>\n",
       "    </tr>\n",
       "  </thead>\n",
       "  <tbody>\n",
       "    <tr>\n",
       "      <th>0</th>\n",
       "      <td>convex</td>\n",
       "    </tr>\n",
       "    <tr>\n",
       "      <th>1</th>\n",
       "      <td>convex</td>\n",
       "    </tr>\n",
       "    <tr>\n",
       "      <th>2</th>\n",
       "      <td>bell</td>\n",
       "    </tr>\n",
       "    <tr>\n",
       "      <th>3</th>\n",
       "      <td>convex</td>\n",
       "    </tr>\n",
       "    <tr>\n",
       "      <th>4</th>\n",
       "      <td>convex</td>\n",
       "    </tr>\n",
       "  </tbody>\n",
       "</table>\n",
       "</div>"
      ],
      "text/plain": [
       "  CapShape\n",
       "0   convex\n",
       "1   convex\n",
       "2     bell\n",
       "3   convex\n",
       "4   convex"
      ]
     },
     "execution_count": 18,
     "metadata": {},
     "output_type": "execute_result"
    }
   ],
   "source": [
    "# Function to encode into an integer\n",
    "def toInteger(value):\n",
    "    return int(value)\n",
    "\n",
    "# Apply\n",
    "df_encoded['Bruises'] = df_encoded['Bruises'].apply(toInteger)\n",
    "df.iloc[:5, :1]"
   ]
  },
  {
   "cell_type": "markdown",
   "metadata": {},
   "source": [
    "The class label is also a categorical variable. It is a requirement of most machine learning models that the class label is encoded into an integer. This can be achieved with scikit-learn's `LabelEncoder`, which also allows the label values to be transformed back into their original string representations."
   ]
  },
  {
   "cell_type": "code",
   "execution_count": 19,
   "metadata": {},
   "outputs": [
    {
     "data": {
      "text/html": [
       "<div>\n",
       "<style scoped>\n",
       "    .dataframe tbody tr th:only-of-type {\n",
       "        vertical-align: middle;\n",
       "    }\n",
       "\n",
       "    .dataframe tbody tr th {\n",
       "        vertical-align: top;\n",
       "    }\n",
       "\n",
       "    .dataframe thead th {\n",
       "        text-align: right;\n",
       "    }\n",
       "</style>\n",
       "<table border=\"1\" class=\"dataframe\">\n",
       "  <thead>\n",
       "    <tr style=\"text-align: right;\">\n",
       "      <th></th>\n",
       "      <th>Class</th>\n",
       "    </tr>\n",
       "  </thead>\n",
       "  <tbody>\n",
       "    <tr>\n",
       "      <th>0</th>\n",
       "      <td>1</td>\n",
       "    </tr>\n",
       "    <tr>\n",
       "      <th>1</th>\n",
       "      <td>0</td>\n",
       "    </tr>\n",
       "    <tr>\n",
       "      <th>2</th>\n",
       "      <td>0</td>\n",
       "    </tr>\n",
       "    <tr>\n",
       "      <th>3</th>\n",
       "      <td>1</td>\n",
       "    </tr>\n",
       "    <tr>\n",
       "      <th>4</th>\n",
       "      <td>0</td>\n",
       "    </tr>\n",
       "  </tbody>\n",
       "</table>\n",
       "</div>"
      ],
      "text/plain": [
       "   Class\n",
       "0      1\n",
       "1      0\n",
       "2      0\n",
       "3      1\n",
       "4      0"
      ]
     },
     "execution_count": 19,
     "metadata": {},
     "output_type": "execute_result"
    }
   ],
   "source": [
    "from sklearn import preprocessing\n",
    "le = preprocessing.LabelEncoder()\n",
    "\n",
    "df_encoded.Class = le.fit_transform(df.Class)\n",
    "df_encoded.iloc[:5, -1:]"
   ]
  },
  {
   "cell_type": "code",
   "execution_count": 20,
   "metadata": {},
   "outputs": [
    {
     "data": {
      "text/plain": [
       "array(['poisonous', 'edible', 'edible', 'poisonous', 'edible'],\n",
       "      dtype=object)"
      ]
     },
     "execution_count": 20,
     "metadata": {},
     "output_type": "execute_result"
    }
   ],
   "source": [
    "labels_original = le.inverse_transform(df_encoded.Class)\n",
    "labels_original[:5]"
   ]
  },
  {
   "cell_type": "code",
   "execution_count": 21,
   "metadata": {},
   "outputs": [],
   "source": [
    "# Replace original data frame\n",
    "df = df_encoded"
   ]
  },
  {
   "cell_type": "markdown",
   "metadata": {},
   "source": [
    "# Modeling"
   ]
  },
  {
   "cell_type": "markdown",
   "metadata": {},
   "source": [
    "## Train/Test Split"
   ]
  },
  {
   "cell_type": "markdown",
   "metadata": {},
   "source": [
    "The data is split into training and testing sets, representing 80% and 20% of the data respectively. Sampling is random."
   ]
  },
  {
   "cell_type": "code",
   "execution_count": 22,
   "metadata": {},
   "outputs": [],
   "source": [
    "# Separate class label from input\n",
    "X = df.iloc[:,:(df.shape[1]-1)]\n",
    "y = df['Class']"
   ]
  },
  {
   "cell_type": "code",
   "execution_count": 23,
   "metadata": {},
   "outputs": [],
   "source": [
    "from sklearn.model_selection import train_test_split\n",
    "X_train,X_test,y_train,y_test = train_test_split(X,y,test_size=.20)"
   ]
  },
  {
   "cell_type": "markdown",
   "metadata": {},
   "source": [
    "The class distribution in the testing and training sets is roughly identical to the dataset overall."
   ]
  },
  {
   "cell_type": "code",
   "execution_count": 24,
   "metadata": {},
   "outputs": [
    {
     "data": {
      "text/plain": [
       "0    0.521926\n",
       "1    0.478074\n",
       "Name: Class, dtype: float64"
      ]
     },
     "execution_count": 24,
     "metadata": {},
     "output_type": "execute_result"
    }
   ],
   "source": [
    "y_train.value_counts(normalize=True)"
   ]
  },
  {
   "cell_type": "code",
   "execution_count": 25,
   "metadata": {},
   "outputs": [
    {
     "data": {
      "text/plain": [
       "0    0.502154\n",
       "1    0.497846\n",
       "Name: Class, dtype: float64"
      ]
     },
     "execution_count": 25,
     "metadata": {},
     "output_type": "execute_result"
    }
   ],
   "source": [
    "y_test.value_counts(normalize=True)"
   ]
  },
  {
   "cell_type": "markdown",
   "metadata": {},
   "source": [
    "## SVM"
   ]
  },
  {
   "cell_type": "code",
   "execution_count": 26,
   "metadata": {},
   "outputs": [
    {
     "name": "stdout",
     "output_type": "stream",
     "text": [
      "Accuracy: 96.06%\n"
     ]
    }
   ],
   "source": [
    "from sklearn.svm import SVC\n",
    "svc = SVC(kernel='poly',gamma='auto',C=1)\n",
    "\n",
    "# Train\n",
    "svc.fit(X_train,y_train)\n",
    "\n",
    "# Accuracy\n",
    "accuracy = svc.score(X_test, y_test)\n",
    "print(f'Accuracy: {round(accuracy*100, 2)}%')"
   ]
  },
  {
   "cell_type": "markdown",
   "metadata": {},
   "source": [
    "A significant improvement in accuracy can be achieved by tuning the model's C value, with perfect accuracy being achieved with a C of around 50."
   ]
  },
  {
   "cell_type": "code",
   "execution_count": 27,
   "metadata": {},
   "outputs": [
    {
     "name": "stdout",
     "output_type": "stream",
     "text": [
      "Accuracy: 99.88%\n"
     ]
    }
   ],
   "source": [
    "# C = 40\n",
    "svc = SVC(kernel='poly',gamma='auto',C=50)\n",
    "\n",
    "# Train\n",
    "svc.fit(X_train,y_train)\n",
    "\n",
    "# Accuracy\n",
    "accuracy = svc.score(X_test, y_test)\n",
    "print(f'Accuracy: {round(accuracy*100, 2)}%')"
   ]
  },
  {
   "cell_type": "markdown",
   "metadata": {},
   "source": [
    "## Decision Tree"
   ]
  },
  {
   "cell_type": "code",
   "execution_count": 28,
   "metadata": {},
   "outputs": [
    {
     "name": "stdout",
     "output_type": "stream",
     "text": [
      "95.26%\n"
     ]
    }
   ],
   "source": [
    "from sklearn.tree import DecisionTreeClassifier\n",
    "dtc = DecisionTreeClassifier(max_depth=2, random_state=0)\n",
    "\n",
    "# Train\n",
    "dtc.fit(X_train, y_train)\n",
    "\n",
    "# Accuracy\n",
    "accuracy = dtc.score(X_test,y_test)\n",
    "print(f'{round(accuracy*100, 2)}%')"
   ]
  },
  {
   "cell_type": "markdown",
   "metadata": {},
   "source": [
    "An initial run with a `max_depth` of 2 yields an unimpressive accuracy compared with the SVM classifier's first run, but the model's accuracy can be improved by tuning the `max_depth`. The model achieves perfect accuracy at a depth of between 5 and 7."
   ]
  },
  {
   "cell_type": "code",
   "execution_count": 29,
   "metadata": {},
   "outputs": [
    {
     "name": "stdout",
     "output_type": "stream",
     "text": [
      "[0.8843076923076924, 0.9526153846153846, 0.9883076923076923, 0.9926153846153846, 0.9944615384615385, 0.9981538461538462, 0.9981538461538462, 0.9981538461538462, 0.9981538461538462]\n"
     ]
    }
   ],
   "source": [
    "# Calculate accuracies by max_depth, up to 9\n",
    "max_depth_vals = list(range(1, 10))\n",
    "accuracy_list = []\n",
    "for max_depth in max_depth_vals:\n",
    "    dtc = DecisionTreeClassifier(max_depth = max_depth, random_state = 0)\n",
    "    dtc.fit(X_train, y_train)\n",
    "    accuracy = dtc.score(X_test, y_test)\n",
    "    accuracy_list.append(accuracy)\n",
    "print(accuracy_list)"
   ]
  },
  {
   "cell_type": "code",
   "execution_count": 30,
   "metadata": {},
   "outputs": [
    {
     "data": {
      "text/html": [
       "<div>\n",
       "<style scoped>\n",
       "    .dataframe tbody tr th:only-of-type {\n",
       "        vertical-align: middle;\n",
       "    }\n",
       "\n",
       "    .dataframe tbody tr th {\n",
       "        vertical-align: top;\n",
       "    }\n",
       "\n",
       "    .dataframe thead th {\n",
       "        text-align: right;\n",
       "    }\n",
       "</style>\n",
       "<table border=\"1\" class=\"dataframe\">\n",
       "  <thead>\n",
       "    <tr style=\"text-align: right;\">\n",
       "      <th></th>\n",
       "      <th>max_depth</th>\n",
       "      <th>accuracy</th>\n",
       "    </tr>\n",
       "  </thead>\n",
       "  <tbody>\n",
       "    <tr>\n",
       "      <th>0</th>\n",
       "      <td>1</td>\n",
       "      <td>0.884308</td>\n",
       "    </tr>\n",
       "    <tr>\n",
       "      <th>1</th>\n",
       "      <td>2</td>\n",
       "      <td>0.952615</td>\n",
       "    </tr>\n",
       "    <tr>\n",
       "      <th>2</th>\n",
       "      <td>3</td>\n",
       "      <td>0.988308</td>\n",
       "    </tr>\n",
       "    <tr>\n",
       "      <th>3</th>\n",
       "      <td>4</td>\n",
       "      <td>0.992615</td>\n",
       "    </tr>\n",
       "    <tr>\n",
       "      <th>4</th>\n",
       "      <td>5</td>\n",
       "      <td>0.994462</td>\n",
       "    </tr>\n",
       "    <tr>\n",
       "      <th>5</th>\n",
       "      <td>6</td>\n",
       "      <td>0.998154</td>\n",
       "    </tr>\n",
       "    <tr>\n",
       "      <th>6</th>\n",
       "      <td>7</td>\n",
       "      <td>0.998154</td>\n",
       "    </tr>\n",
       "    <tr>\n",
       "      <th>7</th>\n",
       "      <td>8</td>\n",
       "      <td>0.998154</td>\n",
       "    </tr>\n",
       "    <tr>\n",
       "      <th>8</th>\n",
       "      <td>9</td>\n",
       "      <td>0.998154</td>\n",
       "    </tr>\n",
       "  </tbody>\n",
       "</table>\n",
       "</div>"
      ],
      "text/plain": [
       "   max_depth  accuracy\n",
       "0          1  0.884308\n",
       "1          2  0.952615\n",
       "2          3  0.988308\n",
       "3          4  0.992615\n",
       "4          5  0.994462\n",
       "5          6  0.998154\n",
       "6          7  0.998154\n",
       "7          8  0.998154\n",
       "8          9  0.998154"
      ]
     },
     "execution_count": 30,
     "metadata": {},
     "output_type": "execute_result"
    }
   ],
   "source": [
    "# Accuracies to data frame\n",
    "depth_accuracies = list(zip(max_depth_vals, accuracy_list))\n",
    "results = pd.DataFrame(data=depth_accuracies, columns=['max_depth','accuracy'])\n",
    "results.head(9)"
   ]
  },
  {
   "cell_type": "code",
   "execution_count": 31,
   "metadata": {},
   "outputs": [
    {
     "data": {
      "text/plain": [
       "[]"
      ]
     },
     "execution_count": 31,
     "metadata": {},
     "output_type": "execute_result"
    },
    {
     "data": {
      "image/png": "[encoded data removed]",
      "text/plain": [
       "<Figure size 648x504 with 1 Axes>"
      ]
     },
     "metadata": {},
     "output_type": "display_data"
    }
   ],
   "source": [
    "# Visualise accuracies\n",
    "ax = sns.lineplot(x=\"max_depth\", y=\"accuracy\", data=results, marker=\"o\")\n",
    "ax.set(xlabel='Tree Depth', ylabel='Accuracy')\n",
    "ax.plot()"
   ]
  },
  {
   "cell_type": "code",
   "execution_count": 32,
   "metadata": {},
   "outputs": [
    {
     "data": {
      "text/plain": [
       "DecisionTreeClassifier(max_depth=7, random_state=0)"
      ]
     },
     "execution_count": 32,
     "metadata": {},
     "output_type": "execute_result"
    }
   ],
   "source": [
    "# Update original classifier\n",
    "dtc = DecisionTreeClassifier(max_depth=7, random_state=0)\n",
    "\n",
    "# Train\n",
    "dtc.fit(X_train, y_train)"
   ]
  },
  {
   "cell_type": "markdown",
   "metadata": {},
   "source": [
    "The features identified as most important by the Decision Tree model do not appear to include those judged by eye as such in the visualisations in [Data Preparation](#Data_Preparation)."
   ]
  },
  {
   "cell_type": "code",
   "execution_count": 33,
   "metadata": {},
   "outputs": [
    {
     "data": {
      "text/html": [
       "<div>\n",
       "<style scoped>\n",
       "    .dataframe tbody tr th:only-of-type {\n",
       "        vertical-align: middle;\n",
       "    }\n",
       "\n",
       "    .dataframe tbody tr th {\n",
       "        vertical-align: top;\n",
       "    }\n",
       "\n",
       "    .dataframe thead th {\n",
       "        text-align: right;\n",
       "    }\n",
       "</style>\n",
       "<table border=\"1\" class=\"dataframe\">\n",
       "  <thead>\n",
       "    <tr style=\"text-align: right;\">\n",
       "      <th></th>\n",
       "      <th>feature</th>\n",
       "      <th>importance</th>\n",
       "    </tr>\n",
       "  </thead>\n",
       "  <tbody>\n",
       "    <tr>\n",
       "      <th>24</th>\n",
       "      <td>Odor_none</td>\n",
       "      <td>0.619</td>\n",
       "    </tr>\n",
       "    <tr>\n",
       "      <th>44</th>\n",
       "      <td>StalkRoot_club</td>\n",
       "      <td>0.177</td>\n",
       "    </tr>\n",
       "    <tr>\n",
       "      <th>78</th>\n",
       "      <td>StalkSurfaceBelowRing_scaly</td>\n",
       "      <td>0.096</td>\n",
       "    </tr>\n",
       "    <tr>\n",
       "      <th>85</th>\n",
       "      <td>SporePrintColor_green</td>\n",
       "      <td>0.034</td>\n",
       "    </tr>\n",
       "    <tr>\n",
       "      <th>87</th>\n",
       "      <td>SporePrintColor_purple</td>\n",
       "      <td>0.025</td>\n",
       "    </tr>\n",
       "    <tr>\n",
       "      <th>23</th>\n",
       "      <td>Odor_musty</td>\n",
       "      <td>0.016</td>\n",
       "    </tr>\n",
       "    <tr>\n",
       "      <th>19</th>\n",
       "      <td>Odor_anise</td>\n",
       "      <td>0.013</td>\n",
       "    </tr>\n",
       "    <tr>\n",
       "      <th>18</th>\n",
       "      <td>Odor_almond</td>\n",
       "      <td>0.011</td>\n",
       "    </tr>\n",
       "    <tr>\n",
       "      <th>76</th>\n",
       "      <td>GillSize_narrow</td>\n",
       "      <td>0.006</td>\n",
       "    </tr>\n",
       "    <tr>\n",
       "      <th>91</th>\n",
       "      <td>CapSurface_grooves</td>\n",
       "      <td>0.002</td>\n",
       "    </tr>\n",
       "  </tbody>\n",
       "</table>\n",
       "</div>"
      ],
      "text/plain": [
       "                        feature  importance\n",
       "24                    Odor_none       0.619\n",
       "44               StalkRoot_club       0.177\n",
       "78  StalkSurfaceBelowRing_scaly       0.096\n",
       "85        SporePrintColor_green       0.034\n",
       "87       SporePrintColor_purple       0.025\n",
       "23                   Odor_musty       0.016\n",
       "19                   Odor_anise       0.013\n",
       "18                  Odor_almond       0.011\n",
       "76              GillSize_narrow       0.006\n",
       "91           CapSurface_grooves       0.002"
      ]
     },
     "execution_count": 33,
     "metadata": {},
     "output_type": "execute_result"
    }
   ],
   "source": [
    "# Features by importance\n",
    "importances = pd.DataFrame({'feature':X_train.columns,'importance':np.round(dtc.feature_importances_,3)})\n",
    "importances = importances.sort_values('importance',ascending=False)\n",
    "importances.head(10)"
   ]
  },
  {
   "cell_type": "markdown",
   "metadata": {},
   "source": [
    "## Random Forest"
   ]
  },
  {
   "cell_type": "code",
   "execution_count": 34,
   "metadata": {},
   "outputs": [
    {
     "name": "stdout",
     "output_type": "stream",
     "text": [
      "Accuracy: 100.0%\n"
     ]
    }
   ],
   "source": [
    "from sklearn.ensemble import RandomForestClassifier\n",
    "rfc = RandomForestClassifier(n_estimators=1)\n",
    "\n",
    "# Train\n",
    "rfc.fit(X_train, y_train)\n",
    "\n",
    "# Accuracy\n",
    "accuracy = rfc.score(X_test, y_test)\n",
    "print(f'Accuracy: {round(accuracy*100, 2)}%')"
   ]
  },
  {
   "cell_type": "markdown",
   "metadata": {},
   "source": [
    "It is somewhat difficult to produce a wrong prediction from the Random Forest model; on some runs it achieves perfect accuracy with even 1 estimator. The most important features identified on some runs include those identified in the visualisations in [Data Preparation](#Data_Preparation)."
   ]
  },
  {
   "cell_type": "code",
   "execution_count": 35,
   "metadata": {},
   "outputs": [
    {
     "data": {
      "text/html": [
       "<div>\n",
       "<style scoped>\n",
       "    .dataframe tbody tr th:only-of-type {\n",
       "        vertical-align: middle;\n",
       "    }\n",
       "\n",
       "    .dataframe tbody tr th {\n",
       "        vertical-align: top;\n",
       "    }\n",
       "\n",
       "    .dataframe thead th {\n",
       "        text-align: right;\n",
       "    }\n",
       "</style>\n",
       "<table border=\"1\" class=\"dataframe\">\n",
       "  <thead>\n",
       "    <tr style=\"text-align: right;\">\n",
       "      <th></th>\n",
       "      <th>feature</th>\n",
       "      <th>importance</th>\n",
       "    </tr>\n",
       "  </thead>\n",
       "  <tbody>\n",
       "    <tr>\n",
       "      <th>76</th>\n",
       "      <td>GillSize_narrow</td>\n",
       "      <td>0.320</td>\n",
       "    </tr>\n",
       "    <tr>\n",
       "      <th>42</th>\n",
       "      <td>StalkSurfaceAboveRing_smooth</td>\n",
       "      <td>0.252</td>\n",
       "    </tr>\n",
       "    <tr>\n",
       "      <th>39</th>\n",
       "      <td>StalkSurfaceAboveRing_fibrous</td>\n",
       "      <td>0.109</td>\n",
       "    </tr>\n",
       "    <tr>\n",
       "      <th>47</th>\n",
       "      <td>GillSpacing_close</td>\n",
       "      <td>0.064</td>\n",
       "    </tr>\n",
       "    <tr>\n",
       "      <th>48</th>\n",
       "      <td>GillSpacing_crowded</td>\n",
       "      <td>0.060</td>\n",
       "    </tr>\n",
       "    <tr>\n",
       "      <th>84</th>\n",
       "      <td>SporePrintColor_chocolate</td>\n",
       "      <td>0.054</td>\n",
       "    </tr>\n",
       "    <tr>\n",
       "      <th>24</th>\n",
       "      <td>Odor_none</td>\n",
       "      <td>0.040</td>\n",
       "    </tr>\n",
       "    <tr>\n",
       "      <th>29</th>\n",
       "      <td>GillColor_buff</td>\n",
       "      <td>0.025</td>\n",
       "    </tr>\n",
       "    <tr>\n",
       "      <th>20</th>\n",
       "      <td>Odor_creosote</td>\n",
       "      <td>0.023</td>\n",
       "    </tr>\n",
       "    <tr>\n",
       "      <th>56</th>\n",
       "      <td>StalkColorAboveRing_white</td>\n",
       "      <td>0.011</td>\n",
       "    </tr>\n",
       "  </tbody>\n",
       "</table>\n",
       "</div>"
      ],
      "text/plain": [
       "                          feature  importance\n",
       "76                GillSize_narrow       0.320\n",
       "42   StalkSurfaceAboveRing_smooth       0.252\n",
       "39  StalkSurfaceAboveRing_fibrous       0.109\n",
       "47              GillSpacing_close       0.064\n",
       "48            GillSpacing_crowded       0.060\n",
       "84      SporePrintColor_chocolate       0.054\n",
       "24                      Odor_none       0.040\n",
       "29                 GillColor_buff       0.025\n",
       "20                  Odor_creosote       0.023\n",
       "56      StalkColorAboveRing_white       0.011"
      ]
     },
     "execution_count": 35,
     "metadata": {},
     "output_type": "execute_result"
    }
   ],
   "source": [
    "importances = pd.DataFrame({'feature':X_train.columns,'importance':np.round(rfc.feature_importances_,3)})\n",
    "importances = importances.sort_values('importance',ascending=False)\n",
    "importances.head(10)"
   ]
  }
 ],
 "metadata": {
  "kernelspec": {
   "display_name": "Python 3",
   "language": "python",
   "name": "python3"
  },
  "language_info": {
   "codemirror_mode": {
    "name": "ipython",
    "version": 3
   },
   "file_extension": ".py",
   "mimetype": "text/x-python",
   "name": "python",
   "nbconvert_exporter": "python",
   "pygments_lexer": "ipython3",
   "version": "3.8.3"
  }
 },
 "nbformat": 4,
 "nbformat_minor": 4
}
