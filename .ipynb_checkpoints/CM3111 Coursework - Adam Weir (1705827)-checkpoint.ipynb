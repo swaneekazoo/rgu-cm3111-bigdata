{
 "cells": [
  {
   "cell_type": "markdown",
   "metadata": {},
   "source": [
    "# Abstract"
   ]
  },
  {
   "cell_type": "markdown",
   "metadata": {},
   "source": [
    "Mushroom picking is a popular pastime. Wild mushrooms vary in edibility, from edible and pleasant-tasting to deadly poisonous. Correct identification is difficult for the layman, and different mushrooms can easily be confused with each other. The aim of this coursework is to create a model to predict whether new specimens are edible or poisonous. This model must be highly credible and accurate, since the nature of its task means errors could result in fatalities."
   ]
  },
  {
   "cell_type": "markdown",
   "metadata": {},
   "source": [
    "## Dataset"
   ]
  },
  {
   "cell_type": "markdown",
   "metadata": {},
   "source": [
    "The [Mushroom](https://archive.ics.uci.edu/ml/datasets/mushroom) dataset is a well-known dataset for classification purposes. It contains more than 8,000 instances of specimens in the *Agaricus* and *Lepiota* genera of mushrooms. Each instance is classified as either *edible* or *poisonous*."
   ]
  },
  {
   "cell_type": "markdown",
   "metadata": {},
   "source": [
    "This copy of the Mushroom dataset was retrieved from the [Wolfram Data Repository](https://datarepository.wolframcloud.com/resources/Sample-Data-Mushroom-Classification) on roughly November 1."
   ]
  },
  {
   "cell_type": "markdown",
   "metadata": {},
   "source": [
    "# Research & Data exploration"
   ]
  },
  {
   "cell_type": "markdown",
   "metadata": {},
   "source": [
    "## Literature Review"
   ]
  },
  {
   "cell_type": "markdown",
   "metadata": {},
   "source": [
    "The paper [*Data Mining on Mushroom Database*](http://csis.pace.edu/~ctappert/srd2008/b2.pdf) makes use of the Mushroom dataset. The authors attempted to find the most effective machine learning model to use for Mushroom, with preliminary results showing that the most effective one used was a Decision Tree algorithm. Test data was split into 2 sets, on which the model reached 99.6% and 100% accuracy, respectively."
   ]
  },
  {
   "cell_type": "markdown",
   "metadata": {},
   "source": [
    "The paper's goal is not dissimilar to that of this coursework. The authors build a user-facing web application on the Decision Tree model, which returns a mushroom's edibility given some attributes by the user."
   ]
  },
  {
   "cell_type": "markdown",
   "metadata": {},
   "source": [
    "In *8. Limitations and Opportunities for Research*, the authors state that the `StalkRoot` attribute, which is known to be about 30% missing, was not removed except in the case of one particular algorithm (PRISM) which was unable to process missing values. It is noted that 'an acceptable level of accuracy was reached regardless of the missing data'."
   ]
  },
  {
   "cell_type": "markdown",
   "metadata": {},
   "source": [
    "The paper provides no exploration of the data, and no visualisation."
   ]
  },
  {
   "cell_type": "markdown",
   "metadata": {},
   "source": [
    "## Data Exploration"
   ]
  },
  {
   "cell_type": "markdown",
   "metadata": {},
   "source": [
    "### Data Shape"
   ]
  },
  {
   "cell_type": "code",
   "execution_count": 1,
   "metadata": {},
   "outputs": [],
   "source": [
    "# Import libraries\n",
    "import numpy as np\n",
    "import pandas as pd\n",
    "import seaborn as sns\n",
    "import matplotlib.pyplot as plt"
   ]
  },
  {
   "cell_type": "code",
   "execution_count": 2,
   "metadata": {},
   "outputs": [
    {
     "data": {
      "text/html": [
       "<div>\n",
       "<style scoped>\n",
       "    .dataframe tbody tr th:only-of-type {\n",
       "        vertical-align: middle;\n",
       "    }\n",
       "\n",
       "    .dataframe tbody tr th {\n",
       "        vertical-align: top;\n",
       "    }\n",
       "\n",
       "    .dataframe thead th {\n",
       "        text-align: right;\n",
       "    }\n",
       "</style>\n",
       "<table border=\"1\" class=\"dataframe\">\n",
       "  <thead>\n",
       "    <tr style=\"text-align: right;\">\n",
       "      <th></th>\n",
       "      <th>CapShape</th>\n",
       "      <th>CapSurface</th>\n",
       "      <th>CapColor</th>\n",
       "      <th>Bruises</th>\n",
       "      <th>Odor</th>\n",
       "      <th>GillAttachment</th>\n",
       "      <th>GillSpacing</th>\n",
       "      <th>GillSize</th>\n",
       "    </tr>\n",
       "  </thead>\n",
       "  <tbody>\n",
       "    <tr>\n",
       "      <th>0</th>\n",
       "      <td>convex</td>\n",
       "      <td>smooth</td>\n",
       "      <td>brown</td>\n",
       "      <td>True</td>\n",
       "      <td>pungent</td>\n",
       "      <td>free</td>\n",
       "      <td>close</td>\n",
       "      <td>narrow</td>\n",
       "    </tr>\n",
       "    <tr>\n",
       "      <th>1</th>\n",
       "      <td>convex</td>\n",
       "      <td>smooth</td>\n",
       "      <td>yellow</td>\n",
       "      <td>True</td>\n",
       "      <td>almond</td>\n",
       "      <td>free</td>\n",
       "      <td>close</td>\n",
       "      <td>broad</td>\n",
       "    </tr>\n",
       "    <tr>\n",
       "      <th>2</th>\n",
       "      <td>bell</td>\n",
       "      <td>smooth</td>\n",
       "      <td>white</td>\n",
       "      <td>True</td>\n",
       "      <td>anise</td>\n",
       "      <td>free</td>\n",
       "      <td>close</td>\n",
       "      <td>broad</td>\n",
       "    </tr>\n",
       "    <tr>\n",
       "      <th>3</th>\n",
       "      <td>convex</td>\n",
       "      <td>scaly</td>\n",
       "      <td>white</td>\n",
       "      <td>True</td>\n",
       "      <td>pungent</td>\n",
       "      <td>free</td>\n",
       "      <td>close</td>\n",
       "      <td>narrow</td>\n",
       "    </tr>\n",
       "    <tr>\n",
       "      <th>4</th>\n",
       "      <td>convex</td>\n",
       "      <td>smooth</td>\n",
       "      <td>gray</td>\n",
       "      <td>False</td>\n",
       "      <td>none</td>\n",
       "      <td>free</td>\n",
       "      <td>crowded</td>\n",
       "      <td>broad</td>\n",
       "    </tr>\n",
       "  </tbody>\n",
       "</table>\n",
       "</div>"
      ],
      "text/plain": [
       "  CapShape CapSurface CapColor  Bruises     Odor GillAttachment GillSpacing  \\\n",
       "0   convex     smooth    brown     True  pungent           free       close   \n",
       "1   convex     smooth   yellow     True   almond           free       close   \n",
       "2     bell     smooth    white     True    anise           free       close   \n",
       "3   convex      scaly    white     True  pungent           free       close   \n",
       "4   convex     smooth     gray    False     none           free     crowded   \n",
       "\n",
       "  GillSize  \n",
       "0   narrow  \n",
       "1    broad  \n",
       "2    broad  \n",
       "3   narrow  \n",
       "4    broad  "
      ]
     },
     "execution_count": 2,
     "metadata": {},
     "output_type": "execute_result"
    }
   ],
   "source": [
    "# Import data\n",
    "df = pd.read_csv('data/mushroom.csv')\n",
    "df.iloc[:5,:8]"
   ]
  },
  {
   "cell_type": "code",
   "execution_count": 3,
   "metadata": {},
   "outputs": [
    {
     "name": "stdout",
     "output_type": "stream",
     "text": [
      "Dataset contains 8124 rows\n",
      "and 23 columns.\n"
     ]
    }
   ],
   "source": [
    "print(f'Dataset contains {df.shape[0]} rows')\n",
    "print(f'and {df.shape[1]} columns.')"
   ]
  },
  {
   "cell_type": "markdown",
   "metadata": {},
   "source": [
    "### Features"
   ]
  },
  {
   "cell_type": "markdown",
   "metadata": {},
   "source": [
    "All but two features are of `object` type: these are all categorical variables, having discrete values. These will need to be handled in order to be properly interpreted by most modelling algorithms ([See section 3.4](#Categorical-Features))."
   ]
  },
  {
   "cell_type": "code",
   "execution_count": 4,
   "metadata": {
    "scrolled": false
   },
   "outputs": [
    {
     "name": "stdout",
     "output_type": "stream",
     "text": [
      "<class 'pandas.core.frame.DataFrame'>\n",
      "RangeIndex: 8124 entries, 0 to 8123\n",
      "Data columns (total 23 columns):\n",
      " #   Column                 Non-Null Count  Dtype \n",
      "---  ------                 --------------  ----- \n",
      " 0   CapShape               8124 non-null   object\n",
      " 1   CapSurface             8124 non-null   object\n",
      " 2   CapColor               8124 non-null   object\n",
      " 3   Bruises                8124 non-null   bool  \n",
      " 4   Odor                   8124 non-null   object\n",
      " 5   GillAttachment         8124 non-null   object\n",
      " 6   GillSpacing            8124 non-null   object\n",
      " 7   GillSize               8124 non-null   object\n",
      " 8   GillColor              8124 non-null   object\n",
      " 9   StalkShape             8124 non-null   object\n",
      " 10  StalkRoot              8124 non-null   object\n",
      " 11  StalkSurfaceAboveRing  8124 non-null   object\n",
      " 12  StalkSurfaceBelowRing  8124 non-null   object\n",
      " 13  StalkColorAboveRing    8124 non-null   object\n",
      " 14  StalkColorBelowRing    8124 non-null   object\n",
      " 15  VeilType               8124 non-null   object\n",
      " 16  VeilColor              8124 non-null   object\n",
      " 17  RingNumber             8124 non-null   int64 \n",
      " 18  RingType               8124 non-null   object\n",
      " 19  SporePrintColor        8124 non-null   object\n",
      " 20  Population             8124 non-null   object\n",
      " 21  Habitat                8124 non-null   object\n",
      " 22  Class                  8124 non-null   object\n",
      "dtypes: bool(1), int64(1), object(21)\n",
      "memory usage: 1.4+ MB\n"
     ]
    }
   ],
   "source": [
    "df.info()"
   ]
  },
  {
   "cell_type": "markdown",
   "metadata": {},
   "source": [
    "Some attributes, such as `GillAttachment` and `RingNumber`, show very little relation to the class variable. Others, such as `GillColor` & `SporePrintColor`, demonstrate strong correlations. For example, *all* mushrooms with 'buff' `GillColor` are poisonous."
   ]
  },
  {
   "cell_type": "code",
   "execution_count": 5,
   "metadata": {
    "scrolled": false
   },
   "outputs": [
    {
     "data": {
      "text/plain": [
       "<AxesSubplot:title={'center':'SporePrintColor vs Class'}, xlabel='SporePrintColor', ylabel='count'>"
      ]
     },
     "execution_count": 5,
     "metadata": {},
     "output_type": "execute_result"
    },
    {
     "data": {
      "image/png": "[encoded data removed]",
      "text/plain": [
       "<Figure size 1008x792 with 4 Axes>"
      ]
     },
     "metadata": {
      "needs_background": "light"
     },
     "output_type": "display_data"
    }
   ],
   "source": [
    "# 4 subplots\n",
    "plt.figure(figsize=(14,11))\n",
    "\n",
    "plt.subplot(2,2,1)\n",
    "plt.title('GillAttachment vs Class')\n",
    "sns.countplot(data=df,x='GillAttachment',hue='Class')\n",
    "\n",
    "plt.subplot(2,2,2)\n",
    "plt.title('RingNumber vs Class')\n",
    "sns.countplot(data=df,x='RingNumber',hue='Class')\n",
    "\n",
    "plt.subplot(2,2,3)\n",
    "plt.title('GillColor vs Class')\n",
    "sns.countplot(data=df,x='GillColor',hue='Class')\n",
    "\n",
    "plt.subplot(2,2,4)\n",
    "plt.title('SporePrintColor vs Class')\n",
    "sns.countplot(data=df,x='SporePrintColor',hue='Class')"
   ]
  },
  {
   "cell_type": "markdown",
   "metadata": {},
   "source": [
    "The dataset's class distribution is balanced."
   ]
  },
  {
   "cell_type": "code",
   "execution_count": 6,
   "metadata": {},
   "outputs": [
    {
     "name": "stdout",
     "output_type": "stream",
     "text": [
      "Edible: 4208 (51.8%)\n",
      "Poisonous: 3916 (48.2%)\n"
     ]
    }
   ],
   "source": [
    "# Value counts\n",
    "edible = len(df[df.Class=='edible'])\n",
    "poisonous = len(df[df.Class=='poisonous'])\n",
    "\n",
    "# Value proportions\n",
    "ediblePC = round(edible/df.shape[0]*100,2)\n",
    "poisonousPC = round(poisonous/df.shape[0]*100,2)\n",
    "\n",
    "print(f'Edible: {edible} ({ediblePC}%)')\n",
    "print(f'Poisonous: {poisonous} ({poisonousPC}%)')"
   ]
  },
  {
   "cell_type": "code",
   "execution_count": 7,
   "metadata": {},
   "outputs": [
    {
     "data": {
      "image/png": "[encoded data removed]",
      "text/plain": [
       "<Figure size 648x504 with 1 Axes>"
      ]
     },
     "metadata": {},
     "output_type": "display_data"
    }
   ],
   "source": [
    "sns.set_style('darkgrid')\n",
    "sns.set_palette('Set2')\n",
    "sns.set(rc={'figure.figsize':(9,7)})\n",
    "\n",
    "sns.countplot(x='Class',data=df)\n",
    "plt.show()"
   ]
  },
  {
   "cell_type": "markdown",
   "metadata": {},
   "source": [
    "### Missing values"
   ]
  },
  {
   "cell_type": "markdown",
   "metadata": {},
   "source": [
    "Mushroom is known to contain missing values. They can be spotted by a knowledgeable eye in the following output: among the listed unique values of the `StalkRoot` feature is a value `Missing[]`. As previously mentioned, the dataset was downloaded from the Wolfram Data Repository, and according to the [Wolfram Language Reference](https://reference.wolfram.com/language/ref/Missing.html), `Missing[]` is the standard notation for missing values in the Wolfram Language."
   ]
  },
  {
   "cell_type": "code",
   "execution_count": 8,
   "metadata": {},
   "outputs": [
    {
     "name": "stdout",
     "output_type": "stream",
     "text": [
      "4 unique values in CapSurface: ['smooth' 'scaly' 'fibrous' 'grooves']\n",
      "2 unique values in Bruises: [ True False]\n",
      "2 unique values in GillAttachment: ['free' 'attached']\n",
      "2 unique values in GillSpacing: ['close' 'crowded']\n",
      "2 unique values in GillSize: ['narrow' 'broad']\n",
      "2 unique values in StalkShape: ['enlarging' 'tapering']\n",
      "5 unique values in StalkRoot: ['equal' 'club' 'bulbous' 'rooted' 'Missing[]']\n",
      "4 unique values in StalkSurfaceAboveRing: ['smooth' 'fibrous' 'silky' 'scaly']\n",
      "4 unique values in StalkSurfaceBelowRing: ['smooth' 'fibrous' 'scaly' 'silky']\n",
      "1 unique values in VeilType: ['partial']\n",
      "4 unique values in VeilColor: ['white' 'brown' 'orange' 'yellow']\n",
      "3 unique values in RingNumber: [1 2 0]\n",
      "5 unique values in RingType: ['pendant' 'evanescent' 'large' 'flaring' 'none']\n",
      "2 unique values in Class: ['poisonous' 'edible']\n"
     ]
    }
   ],
   "source": [
    "# Print unique values of each column if they number 5 or fewer\n",
    "for i in df.columns:\n",
    "    if len(df[i].unique()) <= 5:\n",
    "        print (f'{len(df[i].unique())} unique values in {i}: {df[i].unique()}')"
   ]
  },
  {
   "cell_type": "code",
   "execution_count": 9,
   "metadata": {
    "scrolled": true
   },
   "outputs": [
    {
     "name": "stdout",
     "output_type": "stream",
     "text": [
      "Unique values in StalkRoot: ['equal' 'club' 'bulbous' 'rooted' 'Missing[]']\n"
     ]
    }
   ],
   "source": [
    "print(f'Unique values in StalkRoot: {df[\"StalkRoot\"].unique()}')"
   ]
  },
  {
   "cell_type": "markdown",
   "metadata": {},
   "source": [
    "We can be sure that there are no more missing values in the dataset by converting any `Missing[]` values into a more traditional `None`, and then checking the data frame for null values:"
   ]
  },
  {
   "cell_type": "code",
   "execution_count": 10,
   "metadata": {},
   "outputs": [],
   "source": [
    "# Function to convert Missing[] values to None\n",
    "def missingToNone(value):\n",
    "    if value == 'Missing[]':\n",
    "        return None\n",
    "    else:\n",
    "        return value"
   ]
  },
  {
   "cell_type": "code",
   "execution_count": 11,
   "metadata": {},
   "outputs": [],
   "source": [
    "# Apply function to data frame\n",
    "for i in df.columns:\n",
    "    df[i] = df[i].apply(missingToNone)"
   ]
  },
  {
   "cell_type": "code",
   "execution_count": 12,
   "metadata": {},
   "outputs": [
    {
     "data": {
      "text/plain": [
       "CapShape                    0\n",
       "CapSurface                  0\n",
       "CapColor                    0\n",
       "Bruises                     0\n",
       "Odor                        0\n",
       "GillAttachment              0\n",
       "GillSpacing                 0\n",
       "GillSize                    0\n",
       "GillColor                   0\n",
       "StalkShape                  0\n",
       "StalkRoot                2480\n",
       "StalkSurfaceAboveRing       0\n",
       "StalkSurfaceBelowRing       0\n",
       "StalkColorAboveRing         0\n",
       "StalkColorBelowRing         0\n",
       "VeilType                    0\n",
       "VeilColor                   0\n",
       "RingNumber                  0\n",
       "RingType                    0\n",
       "SporePrintColor             0\n",
       "Population                  0\n",
       "Habitat                     0\n",
       "Class                       0\n",
       "dtype: int64"
      ]
     },
     "execution_count": 12,
     "metadata": {},
     "output_type": "execute_result"
    }
   ],
   "source": [
    "# Check again for missing values \n",
    "df.isnull().sum()"
   ]
  },
  {
   "cell_type": "markdown",
   "metadata": {},
   "source": [
    "# Data Preparation"
   ]
  },
  {
   "cell_type": "markdown",
   "metadata": {},
   "source": [
    "## Missing Values"
   ]
  },
  {
   "cell_type": "code",
   "execution_count": 13,
   "metadata": {},
   "outputs": [
    {
     "name": "stdout",
     "output_type": "stream",
     "text": [
      "Percentage of missing values in StalkRoot: 30.53%\n"
     ]
    }
   ],
   "source": [
    "print(f'Percentage of missing values in StalkRoot: {round(((df[\"StalkRoot\"].isnull().sum() / df.shape[0]) * 100), 2)}%')"
   ]
  },
  {
   "cell_type": "markdown",
   "metadata": {},
   "source": [
    "Since the proportion of missing values is not significant, the StalkRoot feature can be retained."
   ]
  },
  {
   "cell_type": "markdown",
   "metadata": {},
   "source": [
    "## Zero-Variance Predictors"
   ]
  },
  {
   "cell_type": "markdown",
   "metadata": {},
   "source": [
    "The following output reveals that the feature `VeilType` contains only 1 unique value. This makes it a *zero-variance predictor* which is of no use for modelling, so it can be dropped from the dataset."
   ]
  },
  {
   "cell_type": "code",
   "execution_count": 14,
   "metadata": {},
   "outputs": [
    {
     "name": "stdout",
     "output_type": "stream",
     "text": [
      "CapShape 6\n",
      "CapSurface 4\n",
      "CapColor 10\n",
      "Bruises 2\n",
      "Odor 9\n",
      "GillAttachment 2\n",
      "GillSpacing 2\n",
      "GillSize 2\n",
      "GillColor 12\n",
      "StalkShape 2\n",
      "StalkRoot 5\n",
      "StalkSurfaceAboveRing 4\n",
      "StalkSurfaceBelowRing 4\n",
      "StalkColorAboveRing 9\n",
      "StalkColorBelowRing 9\n",
      "VeilType 1\n",
      "VeilColor 4\n",
      "RingNumber 3\n",
      "RingType 5\n",
      "SporePrintColor 9\n",
      "Population 6\n",
      "Habitat 7\n",
      "Class 2\n"
     ]
    }
   ],
   "source": [
    "# Number of unique values per feature\n",
    "for i in df.columns:\n",
    "    print (i,len(df[i].unique()))"
   ]
  },
  {
   "cell_type": "code",
   "execution_count": 15,
   "metadata": {},
   "outputs": [],
   "source": [
    "# Drop VeilType feature\n",
    "df.drop(['VeilType'],axis=1,inplace=True)"
   ]
  },
  {
   "cell_type": "markdown",
   "metadata": {},
   "source": [
    "## Categorical Features"
   ]
  },
  {
   "cell_type": "markdown",
   "metadata": {},
   "source": [
    "The categorical features in the dataset are subject to one-hot encoding with Pandas' `get_dummies` method."
   ]
  },
  {
   "cell_type": "code",
   "execution_count": 16,
   "metadata": {},
   "outputs": [
    {
     "data": {
      "text/html": [
       "<div>\n",
       "<style scoped>\n",
       "    .dataframe tbody tr th:only-of-type {\n",
       "        vertical-align: middle;\n",
       "    }\n",
       "\n",
       "    .dataframe tbody tr th {\n",
       "        vertical-align: top;\n",
       "    }\n",
       "\n",
       "    .dataframe thead th {\n",
       "        text-align: right;\n",
       "    }\n",
       "</style>\n",
       "<table border=\"1\" class=\"dataframe\">\n",
       "  <thead>\n",
       "    <tr style=\"text-align: right;\">\n",
       "      <th></th>\n",
       "      <th>Bruises</th>\n",
       "      <th>RingNumber</th>\n",
       "      <th>Class</th>\n",
       "      <th>Odor_almond</th>\n",
       "      <th>Odor_anise</th>\n",
       "      <th>Odor_creosote</th>\n",
       "      <th>Odor_fishy</th>\n",
       "      <th>Odor_foul</th>\n",
       "    </tr>\n",
       "  </thead>\n",
       "  <tbody>\n",
       "    <tr>\n",
       "      <th>0</th>\n",
       "      <td>True</td>\n",
       "      <td>1</td>\n",
       "      <td>poisonous</td>\n",
       "      <td>0</td>\n",
       "      <td>0</td>\n",
       "      <td>0</td>\n",
       "      <td>0</td>\n",
       "      <td>0</td>\n",
       "    </tr>\n",
       "    <tr>\n",
       "      <th>1</th>\n",
       "      <td>True</td>\n",
       "      <td>1</td>\n",
       "      <td>edible</td>\n",
       "      <td>1</td>\n",
       "      <td>0</td>\n",
       "      <td>0</td>\n",
       "      <td>0</td>\n",
       "      <td>0</td>\n",
       "    </tr>\n",
       "    <tr>\n",
       "      <th>2</th>\n",
       "      <td>True</td>\n",
       "      <td>1</td>\n",
       "      <td>edible</td>\n",
       "      <td>0</td>\n",
       "      <td>1</td>\n",
       "      <td>0</td>\n",
       "      <td>0</td>\n",
       "      <td>0</td>\n",
       "    </tr>\n",
       "    <tr>\n",
       "      <th>3</th>\n",
       "      <td>True</td>\n",
       "      <td>1</td>\n",
       "      <td>poisonous</td>\n",
       "      <td>0</td>\n",
       "      <td>0</td>\n",
       "      <td>0</td>\n",
       "      <td>0</td>\n",
       "      <td>0</td>\n",
       "    </tr>\n",
       "    <tr>\n",
       "      <th>4</th>\n",
       "      <td>False</td>\n",
       "      <td>1</td>\n",
       "      <td>edible</td>\n",
       "      <td>0</td>\n",
       "      <td>0</td>\n",
       "      <td>0</td>\n",
       "      <td>0</td>\n",
       "      <td>0</td>\n",
       "    </tr>\n",
       "  </tbody>\n",
       "</table>\n",
       "</div>"
      ],
      "text/plain": [
       "   Bruises  RingNumber      Class  Odor_almond  Odor_anise  Odor_creosote  \\\n",
       "0     True           1  poisonous            0           0              0   \n",
       "1     True           1     edible            1           0              0   \n",
       "2     True           1     edible            0           1              0   \n",
       "3     True           1  poisonous            0           0              0   \n",
       "4    False           1     edible            0           0              0   \n",
       "\n",
       "   Odor_fishy  Odor_foul  \n",
       "0           0          0  \n",
       "1           0          0  \n",
       "2           0          0  \n",
       "3           0          0  \n",
       "4           0          0  "
      ]
     },
     "execution_count": 16,
     "metadata": {},
     "output_type": "execute_result"
    }
   ],
   "source": [
    "# Set of categorical features\n",
    "non_cat_variables = ['Bruises', 'RingNumber', 'Class']\n",
    "cat_variables = set(df.columns) - set(non_cat_variables)\n",
    "\n",
    "# New data frame for encoded features\n",
    "df_encoded = pd.get_dummies(df, columns=cat_variables)\n",
    "df_encoded.iloc[:5, :8]"
   ]
  },
  {
   "cell_type": "markdown",
   "metadata": {},
   "source": [
    "The dataset contains one Boolean feature. To make this value consistent with the encoded categorical variables, and to preclude any cross-language differences in interpretation of Booleans, the feature is encoded into an integer."
   ]
  },
  {
   "cell_type": "code",
   "execution_count": 17,
   "metadata": {},
   "outputs": [
    {
     "data": {
      "text/plain": [
       "0    1\n",
       "1    1\n",
       "2    1\n",
       "3    1\n",
       "4    0\n",
       "Name: Bruises, dtype: int64"
      ]
     },
     "execution_count": 17,
     "metadata": {},
     "output_type": "execute_result"
    }
   ],
   "source": [
    "# Function to encode into an integer\n",
    "def toInteger(value):\n",
    "    return int(value)\n",
    "\n",
    "# Apply\n",
    "df_encoded['Bruises'] = df_encoded['Bruises'].apply(toInteger)\n",
    "df_encoded['Bruises'].head()"
   ]
  },
  {
   "cell_type": "markdown",
   "metadata": {},
   "source": [
    "The class label is also a categorical variable. It is a requirement of most machine learning models that the class label is encoded into an integer. This can be achieved with scikit-learn's `LabelEncoder`, which also allows the label values to be transformed back into their original string representations."
   ]
  },
  {
   "cell_type": "code",
   "execution_count": 18,
   "metadata": {},
   "outputs": [
    {
     "data": {
      "text/html": [
       "<div>\n",
       "<style scoped>\n",
       "    .dataframe tbody tr th:only-of-type {\n",
       "        vertical-align: middle;\n",
       "    }\n",
       "\n",
       "    .dataframe tbody tr th {\n",
       "        vertical-align: top;\n",
       "    }\n",
       "\n",
       "    .dataframe thead th {\n",
       "        text-align: right;\n",
       "    }\n",
       "</style>\n",
       "<table border=\"1\" class=\"dataframe\">\n",
       "  <thead>\n",
       "    <tr style=\"text-align: right;\">\n",
       "      <th></th>\n",
       "      <th>Bruises</th>\n",
       "      <th>RingNumber</th>\n",
       "      <th>Class</th>\n",
       "      <th>Odor_almond</th>\n",
       "      <th>Odor_anise</th>\n",
       "      <th>Odor_creosote</th>\n",
       "      <th>Odor_fishy</th>\n",
       "      <th>Odor_foul</th>\n",
       "    </tr>\n",
       "  </thead>\n",
       "  <tbody>\n",
       "    <tr>\n",
       "      <th>0</th>\n",
       "      <td>1</td>\n",
       "      <td>1</td>\n",
       "      <td>1</td>\n",
       "      <td>0</td>\n",
       "      <td>0</td>\n",
       "      <td>0</td>\n",
       "      <td>0</td>\n",
       "      <td>0</td>\n",
       "    </tr>\n",
       "    <tr>\n",
       "      <th>1</th>\n",
       "      <td>1</td>\n",
       "      <td>1</td>\n",
       "      <td>0</td>\n",
       "      <td>1</td>\n",
       "      <td>0</td>\n",
       "      <td>0</td>\n",
       "      <td>0</td>\n",
       "      <td>0</td>\n",
       "    </tr>\n",
       "    <tr>\n",
       "      <th>2</th>\n",
       "      <td>1</td>\n",
       "      <td>1</td>\n",
       "      <td>0</td>\n",
       "      <td>0</td>\n",
       "      <td>1</td>\n",
       "      <td>0</td>\n",
       "      <td>0</td>\n",
       "      <td>0</td>\n",
       "    </tr>\n",
       "    <tr>\n",
       "      <th>3</th>\n",
       "      <td>1</td>\n",
       "      <td>1</td>\n",
       "      <td>1</td>\n",
       "      <td>0</td>\n",
       "      <td>0</td>\n",
       "      <td>0</td>\n",
       "      <td>0</td>\n",
       "      <td>0</td>\n",
       "    </tr>\n",
       "    <tr>\n",
       "      <th>4</th>\n",
       "      <td>0</td>\n",
       "      <td>1</td>\n",
       "      <td>0</td>\n",
       "      <td>0</td>\n",
       "      <td>0</td>\n",
       "      <td>0</td>\n",
       "      <td>0</td>\n",
       "      <td>0</td>\n",
       "    </tr>\n",
       "  </tbody>\n",
       "</table>\n",
       "</div>"
      ],
      "text/plain": [
       "   Bruises  RingNumber  Class  Odor_almond  Odor_anise  Odor_creosote  \\\n",
       "0        1           1      1            0           0              0   \n",
       "1        1           1      0            1           0              0   \n",
       "2        1           1      0            0           1              0   \n",
       "3        1           1      1            0           0              0   \n",
       "4        0           1      0            0           0              0   \n",
       "\n",
       "   Odor_fishy  Odor_foul  \n",
       "0           0          0  \n",
       "1           0          0  \n",
       "2           0          0  \n",
       "3           0          0  \n",
       "4           0          0  "
      ]
     },
     "execution_count": 18,
     "metadata": {},
     "output_type": "execute_result"
    }
   ],
   "source": [
    "from sklearn import preprocessing\n",
    "le = preprocessing.LabelEncoder()\n",
    "\n",
    "df_encoded.Class = le.fit_transform(df.Class)\n",
    "df_encoded.iloc[:5, :8]"
   ]
  },
  {
   "cell_type": "code",
   "execution_count": 19,
   "metadata": {},
   "outputs": [
    {
     "data": {
      "text/plain": [
       "array(['poisonous', 'edible', 'edible', 'poisonous', 'edible'],\n",
       "      dtype=object)"
      ]
     },
     "execution_count": 19,
     "metadata": {},
     "output_type": "execute_result"
    }
   ],
   "source": [
    "labels_original = le.inverse_transform(df_encoded.Class)\n",
    "labels_original[:5]"
   ]
  },
  {
   "cell_type": "code",
   "execution_count": 20,
   "metadata": {},
   "outputs": [],
   "source": [
    "# Encode original data frame\n",
    "df = df_encoded"
   ]
  },
  {
   "cell_type": "markdown",
   "metadata": {},
   "source": [
    "# Modeling"
   ]
  },
  {
   "cell_type": "markdown",
   "metadata": {},
   "source": [
    "## Train/Test Split"
   ]
  },
  {
   "cell_type": "markdown",
   "metadata": {},
   "source": [
    "The data is split into training and testing sets, representing 80% and 20% of the data respectively. Sampling is random."
   ]
  },
  {
   "cell_type": "code",
   "execution_count": 21,
   "metadata": {},
   "outputs": [],
   "source": [
    "# Separate class label from input\n",
    "X = df.iloc[:,:(df.shape[1]-1)]\n",
    "y = df['Class']"
   ]
  },
  {
   "cell_type": "code",
   "execution_count": 22,
   "metadata": {},
   "outputs": [],
   "source": [
    "from sklearn.model_selection import train_test_split\n",
    "X_train,X_test,y_train,y_test = train_test_split(X,y,test_size=.80)"
   ]
  },
  {
   "cell_type": "markdown",
   "metadata": {},
   "source": [
    "The class distribution in the testing and training sets is roughly identical to the dataset overall."
   ]
  },
  {
   "cell_type": "code",
   "execution_count": 23,
   "metadata": {},
   "outputs": [
    {
     "data": {
      "text/plain": [
       "0    0.518473\n",
       "1    0.481527\n",
       "Name: Class, dtype: float64"
      ]
     },
     "execution_count": 23,
     "metadata": {},
     "output_type": "execute_result"
    }
   ],
   "source": [
    "y_train.value_counts(normalize=True)"
   ]
  },
  {
   "cell_type": "code",
   "execution_count": 24,
   "metadata": {},
   "outputs": [
    {
     "data": {
      "text/plain": [
       "0    0.517846\n",
       "1    0.482154\n",
       "Name: Class, dtype: float64"
      ]
     },
     "execution_count": 24,
     "metadata": {},
     "output_type": "execute_result"
    }
   ],
   "source": [
    "y_test.value_counts(normalize=True)"
   ]
  },
  {
   "cell_type": "code",
   "execution_count": 27,
   "metadata": {},
   "outputs": [
    {
     "name": "stderr",
     "output_type": "stream",
     "text": [
      "/Users/adam/opt/anaconda3/lib/python3.8/site-packages/sklearn/model_selection/_split.py:293: FutureWarning: Setting a random_state has no effect since shuffle is False. This will raise an error in 0.24. You should leave random_state to its default (None), or set shuffle=True.\n",
      "  warnings.warn(\n"
     ]
    },
    {
     "name": "stdout",
     "output_type": "stream",
     "text": [
      "LR: 1.000000 (0.000000)\n",
      "DT: 1.000000 (0.000000)\n"
     ]
    },
    {
     "name": "stderr",
     "output_type": "stream",
     "text": [
      "/Users/adam/opt/anaconda3/lib/python3.8/site-packages/sklearn/model_selection/_split.py:293: FutureWarning: Setting a random_state has no effect since shuffle is False. This will raise an error in 0.24. You should leave random_state to its default (None), or set shuffle=True.\n",
      "  warnings.warn(\n",
      "/Users/adam/opt/anaconda3/lib/python3.8/site-packages/sklearn/model_selection/_split.py:293: FutureWarning: Setting a random_state has no effect since shuffle is False. This will raise an error in 0.24. You should leave random_state to its default (None), or set shuffle=True.\n",
      "  warnings.warn(\n"
     ]
    },
    {
     "name": "stdout",
     "output_type": "stream",
     "text": [
      "RF: 1.000000 (0.000000)\n"
     ]
    }
   ],
   "source": [
    "from sklearn.linear_model import LogisticRegression\n",
    "from sklearn.svm import SVC\n",
    "from sklearn.tree import DecisionTreeClassifier\n",
    "from sklearn.ensemble import RandomForestClassifier\n",
    "from sklearn.model_selection import KFold\n",
    "from sklearn.model_selection import cross_val_score\n",
    "\n",
    "num_folds = 10\n",
    "seed = 7\n",
    "scoring = 'accuracy'\n",
    "validation_size = 0.20\n",
    "seed = 7\n",
    "\n",
    "models = []\n",
    "models.append(('LR', LogisticRegression()))\n",
    "models.append(('DT', DecisionTreeClassifier()))\n",
    "models.append(('RF', RandomForestClassifier()))\n",
    "results = []\n",
    "names = []\n",
    "\n",
    "for name, model in models:\n",
    "    kfold = KFold(n_splits=num_folds, random_state=seed)\n",
    "    cv_results = cross_val_score(model, X_test, y_test, cv=kfold, scoring=scoring)\n",
    "    results.append(cv_results)\n",
    "    names.append(name)\n",
    "    msg = \"%s: %f (%f)\" % (name, cv_results.mean(), cv_results.std())\n",
    "    print(msg)"
   ]
  },
  {
   "cell_type": "code",
   "execution_count": 26,
   "metadata": {},
   "outputs": [
    {
     "ename": "NameError",
     "evalue": "name 'svc' is not defined",
     "output_type": "error",
     "traceback": [
      "\u001b[0;31m---------------------------------------------------------------------------\u001b[0m",
      "\u001b[0;31mNameError\u001b[0m                                 Traceback (most recent call last)",
      "\u001b[0;32m<ipython-input-26-1325061cf510>\u001b[0m in \u001b[0;36m<module>\u001b[0;34m\u001b[0m\n\u001b[0;32m----> 1\u001b[0;31m \u001b[0maccuracy\u001b[0m \u001b[0;34m=\u001b[0m \u001b[0msvc\u001b[0m\u001b[0;34m.\u001b[0m\u001b[0mscore\u001b[0m\u001b[0;34m(\u001b[0m\u001b[0mX_test\u001b[0m\u001b[0;34m,\u001b[0m\u001b[0my_test\u001b[0m\u001b[0;34m)\u001b[0m\u001b[0;34m\u001b[0m\u001b[0;34m\u001b[0m\u001b[0m\n\u001b[0m\u001b[1;32m      2\u001b[0m \u001b[0mprint\u001b[0m\u001b[0;34m(\u001b[0m\u001b[0;34mf'{round(accuracy*100, 2)}%'\u001b[0m\u001b[0;34m)\u001b[0m\u001b[0;34m\u001b[0m\u001b[0;34m\u001b[0m\u001b[0m\n",
      "\u001b[0;31mNameError\u001b[0m: name 'svc' is not defined"
     ]
    }
   ],
   "source": [
    "accuracy = svc.score(X_test,y_test)\n",
    "print(f'{round(accuracy*100, 2)}%')"
   ]
  },
  {
   "cell_type": "markdown",
   "metadata": {},
   "source": [
    "## Decision Tree"
   ]
  },
  {
   "cell_type": "code",
   "execution_count": null,
   "metadata": {},
   "outputs": [],
   "source": [
    "# Decision tree instance\n",
    "from sklearn.tree import DecisionTreeClassifier\n",
    "clf = DecisionTreeClassifier(max_depth=1, random_state=0)"
   ]
  },
  {
   "cell_type": "code",
   "execution_count": null,
   "metadata": {},
   "outputs": [],
   "source": [
    "# Training\n",
    "clf.fit(X_train, y_train)"
   ]
  },
  {
   "cell_type": "code",
   "execution_count": null,
   "metadata": {},
   "outputs": [],
   "source": [
    "# Testing\n",
    "predictions = clf.predict(X_test)"
   ]
  },
  {
   "cell_type": "code",
   "execution_count": null,
   "metadata": {},
   "outputs": [],
   "source": [
    "# Accuracy\n",
    "accuracy = clf.score(X_test,y_test)\n",
    "print(f'{round(accuracy*100, 2)}%')"
   ]
  },
  {
   "cell_type": "code",
   "execution_count": null,
   "metadata": {},
   "outputs": [],
   "source": []
  }
 ],
 "metadata": {
  "kernelspec": {
   "display_name": "Python 3",
   "language": "python",
   "name": "python3"
  },
  "language_info": {
   "codemirror_mode": {
    "name": "ipython",
    "version": 3
   },
   "file_extension": ".py",
   "mimetype": "text/x-python",
   "name": "python",
   "nbconvert_exporter": "python",
   "pygments_lexer": "ipython3",
   "version": "3.8.3"
  }
 },
 "nbformat": 4,
 "nbformat_minor": 4
}
